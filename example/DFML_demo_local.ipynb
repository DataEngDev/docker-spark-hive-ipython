{
 "cells": [
  {
   "cell_type": "code",
   "execution_count": 1,
   "metadata": {
    "collapsed": false
   },
   "outputs": [],
   "source": [
    "# 設定Spark\n",
    "import os\n",
    "import sys\n",
    "# SPARK_HOME=\"/opt/spark-1.4.1-bin-hadoop2.6\"\n",
    "# os.environ[\"SPARK_HOME\"] = SPARK_HOME\n",
    "# sys.path.append(os.path.join(SPARK_HOME, 'python'))\n",
    "# sys.path.append(os.path.join(SPARK_HOME, 'python/lib/py4j-0.8.2.1-src.zip'))\n",
    "#----\n",
    "import numpy as np\n",
    "import pandas as pd\n",
    "import matplotlib.pyplot as plt\n",
    "%matplotlib inline\n",
    "# import seaborn as sns\n",
    "# sns.set(rc={\"figure.figsize\": (14, 5)},palette=sns.color_palette(\"Set1\", 2))\n",
    "from pyspark.sql.types import *\n",
    "from pyspark.sql.functions import *\n",
    "from pyspark.ml.feature import *\n",
    "from pyspark.ml.classification import *\n",
    "from pyspark.ml.param import *\n",
    "from pyspark.ml import *\n",
    "# from pyspark import HiveContext\n",
    "# ctx = HiveContext(sc)\n",
    "ctx=sqlContext "
   ]
  },
  {
   "cell_type": "markdown",
   "metadata": {},
   "source": [
    "#DataFrame與Pipeline使用範例\n",
    "\n",
    "1. 使用 DataFrame 探索資料，觀察時間與spam的關係。\n",
    "2. 使用ML Pipeline進行spam預測。"
   ]
  },
  {
   "cell_type": "markdown",
   "metadata": {},
   "source": [
    "#資料說明\n",
    "\n",
    "資料來源是 2015痞客邦 PIXNET HACKATHON 活動中開放的[資料集](https://pixnethackathon2015.events.pixnet.net/dataset/readfirst.html)\n",
    "<h2 align=\"center\">[痞客邦](https://www.pixnet.net/)</h2> \n",
    "痞客邦目前華文世界最大部落格服務網站，當中蘊含大量的優質文章，但也不乏惡意灌水的廣告文章，目前站方已經設計多種演算法來偵測劣質文章，也希望多方好手及駭客高手腦力激盪來找出更好的方法揪出網路流氓。身為台灣社群龍頭，以每天2800萬次瀏覽到訪網站的流量，痞客邦開放海量數據資料，讓參賽者可以看見台灣網友更豐富多元的面向與使用行為。 \n",
    "\n",
    "---\n",
    "文章資料集蘊含正常使用者所發佈的優質文章，及spam使用者所發佈的劣質廣告文章，資料收集時間為2015/4。\n",
    "因為data使用規定，本demo無法直接提供資料，請於資料連結內下載。\n",
    "資料欄位說明：\n",
    "```\n",
    "\"post_at\": 文章發佈時間 (Unix Timestamp),\n",
    "\"author\": 作者 ID ,\n",
    "\"tags\": [文章歸屬的標籤列表],\n",
    "\"title\": 文章的標題,\n",
    "\"hits\": 文章總人氣,\n",
    "\"content\": 部落格本文\n",
    "\"comment_count\": 多少人 comment 過,\n",
    "\"comment_ids\": [留言者ID] ,\n",
    "\"category\": 文章的分類,\n",
    "\"spam\": 是否為 Spam 文章,1為spam，0為正常。\n",
    "```"
   ]
  },
  {
   "cell_type": "markdown",
   "metadata": {},
   "source": [
    "#讀取資料集"
   ]
  },
  {
   "cell_type": "code",
   "execution_count": 12,
   "metadata": {
    "collapsed": false
   },
   "outputs": [
    {
     "name": "stdout",
     "output_type": "stream",
     "text": [
      "root\n",
      " |-- category: string (nullable = true)\n",
      " |-- comment_count: long (nullable = true)\n",
      " |-- comment_ids: array (nullable = true)\n",
      " |    |-- element: string (containsNull = true)\n",
      " |-- hits: long (nullable = true)\n",
      " |-- tags: array (nullable = true)\n",
      " |    |-- element: string (containsNull = true)\n",
      " |-- title: string (nullable = true)\n",
      " |-- spam: double (nullable = true)\n",
      " |-- post_at: long (nullable = true)\n",
      "\n"
     ]
    }
   ],
   "source": [
    "path = <<FILL-IN>> # the path of file: articles-half-a.json.\n",
    "panda_df = pd.read_json(path) #如果無法讀入，可以試試python的json套件\n",
    "df=ctx.createDataFrame(panda_df)\n",
    "df=df.withColumn('spam2',df['spam'].astype(DoubleType())).drop('spam').withColumnRenamed('spam2','spam')  # 1.4 bug\n",
    "df=df.withColumn('post_at2',(df['post_at']/1000000000).astype(LongType())).drop('post_at').withColumnRenamed('post_at2','post_at')  # 1.4 bug\n",
    "df.printSchema()"
   ]
  },
  {
   "cell_type": "code",
   "execution_count": 13,
   "metadata": {
    "collapsed": false
   },
   "outputs": [
    {
     "name": "stdout",
     "output_type": "stream",
     "text": [
      "+--------+-------------+----+----------+--------------------+----+\n",
      "|category|comment_count|hits|   post_at|               title|spam|\n",
      "+--------+-------------+----+----------+--------------------+----+\n",
      "|    時尚流行|            0|   0|1427897290|LACOSTE 2013 春夏新品預覽會| 1.0|\n",
      "|     汽機車|            0| 445|1428297431|     VIRAGE 引擎抖動、不順!| 0.0|\n",
      "+--------+-------------+----+----------+--------------------+----+\n",
      "\n"
     ]
    }
   ],
   "source": [
    "# 觀察table內的數值\n",
    "df.select('category','comment_count','hits','post_at','title','spam').show(2) "
   ]
  },
  {
   "cell_type": "markdown",
   "metadata": {},
   "source": [
    "---"
   ]
  },
  {
   "cell_type": "markdown",
   "metadata": {},
   "source": [
    "#使用 DataFrame 探索資料，觀察時間與spam的關係\n",
    "我們想要知道spam和時間的關係，是否spam大部份發生在晚上或白天，非spam是否有分布上的差異。   \n",
    "原始資料是巨大的表格形式，不利於觀察，我們利用Spark處理大資料的能力將大資料聚集成小資料，再利用Pandas將它視覺化。  \n",
    "\n",
    "步驟：\n",
    "1. 觀察原始時間資料。\n",
    "2. 定義解析時間用的UDF ,用udf將utc數字轉成時間類型。\n",
    "2. 計算每一小時的spam和非sapm數量，也就是聚集時間和spam成group並進行count。\n",
    "3. 視覺化，轉成pandas畫圖。"
   ]
  },
  {
   "cell_type": "markdown",
   "metadata": {},
   "source": [
    "###觀察原始時間資料\n",
    "原始時間在欄位'post_at',格式是UTC second."
   ]
  },
  {
   "cell_type": "code",
   "execution_count": 14,
   "metadata": {
    "collapsed": false,
    "scrolled": true
   },
   "outputs": [
    {
     "name": "stdout",
     "output_type": "stream",
     "text": [
      "+----------+----+\n",
      "|   post_at|spam|\n",
      "+----------+----+\n",
      "|1427897290| 1.0|\n",
      "|1428297431| 0.0|\n",
      "|1428749080| 1.0|\n",
      "+----------+----+\n",
      "\n"
     ]
    }
   ],
   "source": [
    "df.select('post_at','spam').show(3)"
   ]
  },
  {
   "cell_type": "markdown",
   "metadata": {},
   "source": [
    "###定義解析時間用的UDF \n",
    "1. 設定台灣時差\n",
    "2. 定義把utc時間轉成當天小時時間的function\n",
    "3. 定義SQL UDF"
   ]
  },
  {
   "cell_type": "code",
   "execution_count": 15,
   "metadata": {
    "collapsed": false
   },
   "outputs": [],
   "source": [
    "from datetime import datetime,tzinfo,timedelta\n",
    "# 定義把utc時間轉成當天小時時間的function\n",
    "get_hour = lambda x: (datetime.utcfromtimestamp(float(x)) + timedelta(hours=8)).hour \n",
    "# 定義SQL UDF\n",
    "hourOfDay = udf(get_hour, IntegerType()) "
   ]
  },
  {
   "cell_type": "markdown",
   "metadata": {},
   "source": [
    "###計算每一小時的spam和非sapm數量\n",
    "1. 使用udf，增加hour 欄位 \n",
    "2. group by (spam , hour) \n",
    "3. 計算每個group內的數量並且命名為 'count' \n",
    "4. 照時間順序排序結果"
   ]
  },
  {
   "cell_type": "code",
   "execution_count": 16,
   "metadata": {
    "collapsed": false
   },
   "outputs": [
    {
     "name": "stdout",
     "output_type": "stream",
     "text": [
      "root\n",
      " |-- spam: double (nullable = true)\n",
      " |-- hour: integer (nullable = true)\n",
      " |-- count: long (nullable = false)\n",
      "\n"
     ]
    }
   ],
   "source": [
    "df_hour=(df.withColumn('hour',hourOfDay(df['post_at'])) # 使用上述定義的UDF，增加hour欄位\n",
    "            .groupBy('spam','hour')                     # group by (spam , hour) \n",
    "            .agg(count('*').alias('count'))             # 計算每個group內的數量並且命名為 'count' \n",
    "            .orderBy(asc('hour')))                      # 照時間順序排序結果\n",
    "            \n",
    "df_hour.printSchema()"
   ]
  },
  {
   "cell_type": "markdown",
   "metadata": {},
   "source": [
    "###視覺化\n",
    "圖片藍色是spam文章，紅色是正常文章。  \n",
    "經由視覺化更有效地觀察資料，我們可以發現，發文數量呈現日多夜少的情形。\n",
    "非spam的發文數量於晚間12點達到最高峰，晚餐和睡眠時間最低。\n",
    "spam方面與非spam的發文數量相比，spam半夜特別多，且變化較大。  \n",
    "\n",
    "步驟：\n",
    "1. spark dataframe轉成pandas dataframe\n",
    "2. 使用pandas畫圖"
   ]
  },
  {
   "cell_type": "code",
   "execution_count": 17,
   "metadata": {
    "collapsed": false
   },
   "outputs": [
    {
     "data": {
      "text/plain": [
       "<matplotlib.text.Text at 0x7f4a8cea5110>"
      ]
     },
     "execution_count": 17,
     "metadata": {},
     "output_type": "execute_result"
    },
    {
     "data": {
      "image/png": "[encoded data removed]",
      "text/plain": [
       "<matplotlib.figure.Figure at 0x7f4a4fc59d90>"
      ]
     },
     "metadata": {},
     "output_type": "display_data"
    }
   ],
   "source": [
    "# spark dataframe轉成pandas dataframe\n",
    "pandas_df = df_hour.toPandas() \n",
    "# 轉一下格式方便畫圖\n",
    "pandas_df = pandas_df.pivot_table(index='hour',columns='spam',values='count') \n",
    "pandas_df.set_axis(1,['not spam','spam'])\n",
    "# 使用pandas畫圖\n",
    "ax=pandas_df.plot(kind='bar') \n",
    "ax.set_title('count by hour')\n",
    "ax.set_ylabel('count')\n",
    "ax.set_xlabel('hour')"
   ]
  },
  {
   "cell_type": "markdown",
   "metadata": {},
   "source": [
    "----"
   ]
  },
  {
   "cell_type": "markdown",
   "metadata": {},
   "source": [
    "#使用ML Pipeline進行spam預測\n",
    "步驟：\n",
    "1. 前處理。  \n",
    "3. 建立pipeline。\n",
    "4. 分成訓練和測試資料。\n",
    "5. 使用訓練資料訓練pipeline。\n",
    "7. 使用測試資料評估性能。"
   ]
  },
  {
   "cell_type": "markdown",
   "metadata": {},
   "source": [
    "###前處理 \n",
    "特徵抽取，加入時間特徵，利用上述dataframe udf加入hour特徵。"
   ]
  },
  {
   "cell_type": "code",
   "execution_count": 18,
   "metadata": {
    "collapsed": false
   },
   "outputs": [],
   "source": [
    "# 加入時間特徵\n",
    "df_ml = df.withColumn('hour',hourOfDay(df['post_at']).astype(DoubleType())) "
   ]
  },
  {
   "cell_type": "markdown",
   "metadata": {},
   "source": [
    "###建立 Pipeline\n",
    "本demo目的為Pipeline的使用，為了簡單起見，本demo只挑選幾個簡單的特徵：\n",
    "- 時間\"hour\", 時間特徵使用上述的發文小時時間, 在前處理步驟已經加入。\n",
    "- 點擊數\"hits\",\n",
    "- 留言數量'comment_count'。  \n",
    "\n",
    "我們使用線性分類器logistic regression，這種分類器只接受數值特徵，類別特徵必須先經過編碼轉換才能通過分類器。留言數和點擊數本身是數值特徵， 小時時間類別是類別特徵需要經過編碼轉成數值特徵。\n",
    "\n",
    "Pipeline流程圖：\n",
    "```\n",
    "發文時間 ---- 類別數值化 ------------\\  \n",
    "                                   \\  \n",
    "點擊數量 -------------------------- 結合 ---> 分類器  \n",
    "                                   /  \n",
    "留言數量 --------------------------/  \n",
    "```"
   ]
  },
  {
   "cell_type": "code",
   "execution_count": 19,
   "metadata": {
    "collapsed": false
   },
   "outputs": [],
   "source": [
    "# 發文時間編碼\n",
    "hour_encoder = OneHotEncoder(inputCol=\"hour\", outputCol=\"hour_code\")  \n",
    "\n",
    "# 結合所有特徵\n",
    "assembler = VectorAssembler(inputCols=[\"hour_code\",\"hits\",'comment_count'], outputCol=\"features\")\n",
    "\n",
    "# 分類器\n",
    "log_regressor = LogisticRegression(featuresCol=\"features\",labelCol=\"spam\")\n",
    "\n",
    "#機器學習管線\n",
    "pipeline = Pipeline(stages=[hour_encoder,assembler,log_regressor])"
   ]
  },
  {
   "cell_type": "markdown",
   "metadata": {},
   "source": [
    "###把資料分成訓練和測試資料\n",
    "在比例上，訓練資料佔七成，測試資料佔三成"
   ]
  },
  {
   "cell_type": "code",
   "execution_count": 20,
   "metadata": {
    "collapsed": true
   },
   "outputs": [],
   "source": [
    "df_train,df_test=df_ml.randomSplit([7.,3.],123)"
   ]
  },
  {
   "cell_type": "markdown",
   "metadata": {},
   "source": [
    "###訓練pipeline\n",
    "pipeline是Estimator所以有fit方法。"
   ]
  },
  {
   "cell_type": "code",
   "execution_count": 21,
   "metadata": {
    "collapsed": true
   },
   "outputs": [],
   "source": [
    "model = pipeline.fit(df_train)"
   ]
  },
  {
   "cell_type": "markdown",
   "metadata": {},
   "source": [
    "###評估pipeline\n",
    "1. 用訓練好的pipeline進行預測操是資料集。\n",
    "3. 使用DataFrame計算預測精準度。\n",
    "3. 利用dataframe觀察資料以利檢討模型。"
   ]
  },
  {
   "cell_type": "code",
   "execution_count": 22,
   "metadata": {
    "collapsed": true
   },
   "outputs": [],
   "source": [
    "# 用訓練好的pipeline進行預測測試資料集。\n",
    "# 訓練好的pipeline是Transformer所以有transform方法。\n",
    "df_pred = model.transform(df_test)"
   ]
  },
  {
   "cell_type": "code",
   "execution_count": 23,
   "metadata": {
    "collapsed": false
   },
   "outputs": [
    {
     "name": "stdout",
     "output_type": "stream",
     "text": [
      "root\n",
      " |-- category: string (nullable = true)\n",
      " |-- comment_count: long (nullable = true)\n",
      " |-- comment_ids: array (nullable = true)\n",
      " |    |-- element: string (containsNull = true)\n",
      " |-- hits: long (nullable = true)\n",
      " |-- tags: array (nullable = true)\n",
      " |    |-- element: string (containsNull = true)\n",
      " |-- title: string (nullable = true)\n",
      " |-- spam: double (nullable = true)\n",
      " |-- post_at: long (nullable = true)\n",
      " |-- hour: double (nullable = true)\n",
      " |-- hour_code: vector (nullable = true)\n",
      " |-- features: vector (nullable = true)\n",
      " |-- rawPrediction: vector (nullable = true)\n",
      " |-- probability: vector (nullable = true)\n",
      " |-- prediction: double (nullable = true)\n",
      "\n"
     ]
    }
   ],
   "source": [
    "# 觀察transofrm對dataframe做了什麼事，所有pipeline設定的特徵和預測都加入dataframe了。\n",
    "df_pred.printSchema()"
   ]
  },
  {
   "cell_type": "code",
   "execution_count": 24,
   "metadata": {
    "collapsed": false
   },
   "outputs": [
    {
     "name": "stdout",
     "output_type": "stream",
     "text": [
      "+------------------+\n",
      "|          accuracy|\n",
      "+------------------+\n",
      "|0.7128378378378378|\n",
      "+------------------+\n",
      "\n"
     ]
    }
   ],
   "source": [
    "pred_label = df_pred.select(\"prediction\", \"spam\")\n",
    "# 建立accuracy function，使用內建dataframe functions達成UDAF\n",
    "accuracy = avg((pred_label.prediction==pred_label['spam']).astype(IntegerType())).alias(\"accuracy\") \n",
    "# 需要groupBy才能使用此function, 所以就group所有data吧\n",
    "pred_label.groupBy().agg(accuracy).show()"
   ]
  },
  {
   "cell_type": "code",
   "execution_count": 25,
   "metadata": {
    "collapsed": false
   },
   "outputs": [
    {
     "name": "stdout",
     "output_type": "stream",
     "text": [
      "+----+----+-------------+----+----------+\n",
      "|hour|hits|comment_count|spam|prediction|\n",
      "+----+----+-------------+----+----------+\n",
      "|13.0| 189|            0| 0.0|       1.0|\n",
      "|12.0|  34|            0| 0.0|       1.0|\n",
      "|20.0|   0|            0| 1.0|       0.0|\n",
      "|20.0|   0|            0| 1.0|       0.0|\n",
      "|20.0|   0|            0| 1.0|       0.0|\n",
      "|20.0|   0|            0| 1.0|       0.0|\n",
      "|15.0|   0|            0| 0.0|       1.0|\n",
      "|10.0|2012|            0| 0.0|       1.0|\n",
      "|15.0|3652|            4| 0.0|       1.0|\n",
      "|13.0|   0|            0| 0.0|       1.0|\n",
      "+----+----+-------------+----+----------+\n",
      "\n"
     ]
    }
   ],
   "source": [
    "# 檢討模型效能，觀察什麼樣的特徵導致錯誤預測。\n",
    "df_pred.filter(df_pred['spam']!=df_pred['prediction'])\\\n",
    "        .select('hour','hits','comment_count','spam','prediction')\\\n",
    "        .show(10)"
   ]
  },
  {
   "cell_type": "markdown",
   "metadata": {},
   "source": [
    "author: Wayne-Lin \n",
    "#=====使用完請隨手關燈sc.stop(),感謝您======"
   ]
  },
  {
   "cell_type": "code",
   "execution_count": 7,
   "metadata": {
    "collapsed": false
   },
   "outputs": [],
   "source": [
    "sc.stop()"
   ]
  },
  {
   "cell_type": "code",
   "execution_count": null,
   "metadata": {
    "collapsed": false
   },
   "outputs": [],
   "source": []
  }
 ],
 "metadata": {
  "kernelspec": {
   "display_name": "Python 2",
   "language": "python",
   "name": "python2"
  },
  "language_info": {
   "codemirror_mode": {
    "name": "ipython",
    "version": 2
   },
   "file_extension": ".py",
   "mimetype": "text/x-python",
   "name": "python",
   "nbconvert_exporter": "python",
   "pygments_lexer": "ipython2",
   "version": "2.7.10"
  }
 },
 "nbformat": 4,
 "nbformat_minor": 0
}
